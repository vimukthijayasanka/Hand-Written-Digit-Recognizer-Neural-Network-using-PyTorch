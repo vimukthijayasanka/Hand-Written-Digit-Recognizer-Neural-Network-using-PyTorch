{
  "nbformat": 4,
  "nbformat_minor": 0,
  "metadata": {
    "colab": {
      "provenance": [],
      "gpuType": "T4"
    },
    "kernelspec": {
      "name": "python3",
      "display_name": "Python 3"
    },
    "language_info": {
      "name": "python"
    },
    "accelerator": "GPU"
  },
  "cells": [
    {
      "cell_type": "code",
      "execution_count": null,
      "metadata": {
        "id": "gaFdqAwQnEGl"
      },
      "outputs": [],
      "source": [
        "import torch\n",
        "import numpy as np\n",
        "from torchvision import datasets # Import the necessary libraries from the torchvision package\n",
        "from torchvision.transforms import ToTensor\n",
        "import matplotlib.pyplot as plt"
      ]
    },
    {
      "cell_type": "code",
      "source": [
        "## Download the MNIST training dataset if it's not already present in the specified root directory.\n",
        "# Convert the images to PyTorch tensors for further processing.\n",
        "train_data = datasets.MNIST(\n",
        "    root=\"data\",    # Directory where the data will be stored\n",
        "    train=True,     # Specifies that this is the training set\n",
        "    download=True,  # Downloads the data if it's not already present\n",
        "    transform=ToTensor()  # Converts the images to PyTorch tensors\n",
        ")\n",
        "\n",
        "test_data = datasets.MNIST(\n",
        "    root=\"data\",\n",
        "    train=False,     # Specifies that this is the test set\n",
        "    download=True,\n",
        "    transform=ToTensor()\n",
        ")"
      ],
      "metadata": {
        "id": "34ftMzP5nuGD"
      },
      "execution_count": null,
      "outputs": []
    },
    {
      "cell_type": "code",
      "source": [
        "train_data.data.shape"
      ],
      "metadata": {
        "colab": {
          "base_uri": "https://localhost:8080/"
        },
        "id": "ZXeekEjxoGU2",
        "outputId": "425462b4-3c17-4b22-b623-a2aae032042b"
      },
      "execution_count": null,
      "outputs": [
        {
          "output_type": "execute_result",
          "data": {
            "text/plain": [
              "torch.Size([60000, 28, 28])"
            ]
          },
          "metadata": {},
          "execution_count": 29
        }
      ]
    },
    {
      "cell_type": "code",
      "source": [
        "test_data.data.shape"
      ],
      "metadata": {
        "colab": {
          "base_uri": "https://localhost:8080/"
        },
        "id": "cbafRIHmoKZL",
        "outputId": "41de50a8-def8-407a-a0c0-9d0527076799"
      },
      "execution_count": null,
      "outputs": [
        {
          "output_type": "execute_result",
          "data": {
            "text/plain": [
              "torch.Size([10000, 28, 28])"
            ]
          },
          "metadata": {},
          "execution_count": 30
        }
      ]
    },
    {
      "cell_type": "code",
      "source": [
        "train_data.targets.size()"
      ],
      "metadata": {
        "colab": {
          "base_uri": "https://localhost:8080/"
        },
        "id": "6Kpir5d-oLmA",
        "outputId": "f4325389-3472-482a-bf83-b9038b89fb3d"
      },
      "execution_count": null,
      "outputs": [
        {
          "output_type": "execute_result",
          "data": {
            "text/plain": [
              "torch.Size([60000])"
            ]
          },
          "metadata": {},
          "execution_count": 31
        }
      ]
    },
    {
      "cell_type": "code",
      "source": [
        "train_data.targets"
      ],
      "metadata": {
        "colab": {
          "base_uri": "https://localhost:8080/"
        },
        "id": "e_dcWhTco64M",
        "outputId": "e19cf300-f752-4d61-b911-cd45c14973a8"
      },
      "execution_count": null,
      "outputs": [
        {
          "output_type": "execute_result",
          "data": {
            "text/plain": [
              "tensor([5, 0, 4,  ..., 5, 6, 8])"
            ]
          },
          "metadata": {},
          "execution_count": 32
        }
      ]
    },
    {
      "cell_type": "code",
      "source": [
        "from torch.utils.data import DataLoader\n",
        "\n",
        "loaders = {\n",
        "    'train':DataLoader(train_data,\n",
        "                       batch_size = 100,\n",
        "                       shuffle=True,\n",
        "                       num_workers =1),\n",
        "\n",
        "    'test':DataLoader(test_data,\n",
        "                       batch_size = 500,\n",
        "                       shuffle=False,\n",
        "                       num_workers =1),\n",
        "}"
      ],
      "metadata": {
        "id": "jucgeYuno-Z_"
      },
      "execution_count": null,
      "outputs": []
    },
    {
      "cell_type": "code",
      "source": [
        "loaders"
      ],
      "metadata": {
        "colab": {
          "base_uri": "https://localhost:8080/"
        },
        "id": "twtaWHdUqrn7",
        "outputId": "17233da1-a285-48cf-bd01-02ebc7444508"
      },
      "execution_count": null,
      "outputs": [
        {
          "output_type": "execute_result",
          "data": {
            "text/plain": [
              "{'train': <torch.utils.data.dataloader.DataLoader at 0x7ec5607dfe20>,\n",
              " 'test': <torch.utils.data.dataloader.DataLoader at 0x7ec560867a90>}"
            ]
          },
          "metadata": {},
          "execution_count": 34
        }
      ]
    },
    {
      "cell_type": "code",
      "source": [
        "import torch.nn as nn\n",
        "import torch.nn.functional as F\n",
        "import torch.optim as optim"
      ],
      "metadata": {
        "id": "7B795h_PqsjQ"
      },
      "execution_count": null,
      "outputs": []
    },
    {
      "cell_type": "code",
      "source": [
        "class CNN(nn.Module):\n",
        "  def __init__(self):\n",
        "    super(CNN, self).__init__()\n",
        "\n",
        "    self.conv1 = nn.Conv2d(1, 10, kernel_size=5)\n",
        "    self.conv2 = nn.Conv2d(10, 20, kernel_size=5)\n",
        "    self.conv2_drop = nn.Dropout2d()\n",
        "    self.fc1 = nn.Linear(320, 50)\n",
        "    self.fc2 = nn.Linear(50, 10)\n",
        "\n",
        "  def forward(self, x):\n",
        "    x = F.relu(F.max_pool2d(self.conv1(x), 2))\n",
        "    x = F.relu(F.max_pool2d(self.conv2_drop(self.conv2(x)), 2))\n",
        "    x = x.view(-1, 320)\n",
        "    x = F.relu(self.fc1(x))\n",
        "    x = F.dropout(x, training=self.training)\n",
        "    x = self.fc2(x)\n",
        "    return F.softmax(x)\n",
        "    #return F.log_softmax(x, dim=1)"
      ],
      "metadata": {
        "id": "mg08S7qbrBTu"
      },
      "execution_count": null,
      "outputs": []
    },
    {
      "cell_type": "code",
      "source": [
        "from typing import ItemsView\n",
        "import torch\n",
        "\n",
        "device = torch.device(\"cuda\" if torch.cuda.is_available() else \"cpu\")\n",
        "\n",
        "model = CNN().to(device)\n",
        "\n",
        "optimizer = optim.Adam(model.parameters(), lr=0.001)\n",
        "\n",
        "loss_fn = nn.CrossEntropyLoss()\n",
        "\n",
        "def train(epoch):\n",
        "  model.train()\n",
        "  for batch_idx, (data, target) in enumerate(loaders['train']):\n",
        "    data, target = data.to(device), target.to(device)\n",
        "    optimizer.zero_grad()\n",
        "    output = model(data)\n",
        "    loss = loss_fn(output, target)\n",
        "    loss.backward()\n",
        "    optimizer.step()\n",
        "    if batch_idx % 20 == 0:\n",
        "        print(f'Train Epoch: {epoch} [{batch_idx * len(data)}/{len(loaders[\"train\"].dataset)} ({100. * batch_idx / len(loaders[\"train\"]):0f}%)]\\t{loss.item():.6f}')\n",
        "\n",
        "def test():\n",
        "  model.eval()\n",
        "\n",
        "  test_loss = 0\n",
        "  correct = 0\n",
        "\n",
        "  with torch.no_grad():\n",
        "    for data, target in loaders['test']:\n",
        "        data, target = data.to(device), target.to(device)\n",
        "        output = model(data)\n",
        "        test_loss += loss_fn(output,target).item()\n",
        "        pred = output.argmax(dim=1, keepdim=True)\n",
        "        correct += pred.eq(target.view_as(pred)).sum().item()\n",
        "\n",
        "    test_loss /= len(loaders['test'].dataset)\n",
        "    print(f'\\nTest set: Average loss: {test_loss:.4f}, Accuracy: {correct}/{len(loaders[\"test\"].dataset)} ({100. * correct / len(loaders[\"test\"].dataset):.0f}%)\\n')\n"
      ],
      "metadata": {
        "id": "oow67ig7sluq"
      },
      "execution_count": null,
      "outputs": []
    },
    {
      "cell_type": "code",
      "source": [
        "for epoch in range(1,11):\n",
        "  train(epoch)\n",
        "  test()"
      ],
      "metadata": {
        "colab": {
          "base_uri": "https://localhost:8080/"
        },
        "id": "Vk5tK7o3syav",
        "outputId": "29f8d666-92a2-480f-9e09-56e517b9cacf"
      },
      "execution_count": null,
      "outputs": [
        {
          "output_type": "stream",
          "name": "stderr",
          "text": [
            "<ipython-input-36-da28291b5edc>:18: UserWarning: Implicit dimension choice for softmax has been deprecated. Change the call to include dim=X as an argument.\n",
            "  return F.softmax(x)\n"
          ]
        },
        {
          "output_type": "stream",
          "name": "stdout",
          "text": [
            "Train Epoch: 1 [0/60000 (0.000000%)]\t2.302649\n",
            "Train Epoch: 1 [2000/60000 (3.333333%)]\t2.287220\n",
            "Train Epoch: 1 [4000/60000 (6.666667%)]\t2.147398\n",
            "Train Epoch: 1 [6000/60000 (10.000000%)]\t2.058741\n",
            "Train Epoch: 1 [8000/60000 (13.333333%)]\t1.877689\n",
            "Train Epoch: 1 [10000/60000 (16.666667%)]\t1.801319\n",
            "Train Epoch: 1 [12000/60000 (20.000000%)]\t1.822429\n",
            "Train Epoch: 1 [14000/60000 (23.333333%)]\t1.737651\n",
            "Train Epoch: 1 [16000/60000 (26.666667%)]\t1.694881\n",
            "Train Epoch: 1 [18000/60000 (30.000000%)]\t1.720263\n",
            "Train Epoch: 1 [20000/60000 (33.333333%)]\t1.698982\n",
            "Train Epoch: 1 [22000/60000 (36.666667%)]\t1.696465\n",
            "Train Epoch: 1 [24000/60000 (40.000000%)]\t1.735418\n",
            "Train Epoch: 1 [26000/60000 (43.333333%)]\t1.679265\n",
            "Train Epoch: 1 [28000/60000 (46.666667%)]\t1.643119\n",
            "Train Epoch: 1 [30000/60000 (50.000000%)]\t1.632842\n",
            "Train Epoch: 1 [32000/60000 (53.333333%)]\t1.605285\n",
            "Train Epoch: 1 [34000/60000 (56.666667%)]\t1.603880\n",
            "Train Epoch: 1 [36000/60000 (60.000000%)]\t1.584444\n",
            "Train Epoch: 1 [38000/60000 (63.333333%)]\t1.633136\n",
            "Train Epoch: 1 [40000/60000 (66.666667%)]\t1.662868\n",
            "Train Epoch: 1 [42000/60000 (70.000000%)]\t1.573833\n",
            "Train Epoch: 1 [44000/60000 (73.333333%)]\t1.632149\n",
            "Train Epoch: 1 [46000/60000 (76.666667%)]\t1.564703\n",
            "Train Epoch: 1 [48000/60000 (80.000000%)]\t1.565408\n",
            "Train Epoch: 1 [50000/60000 (83.333333%)]\t1.565487\n",
            "Train Epoch: 1 [52000/60000 (86.666667%)]\t1.625933\n",
            "Train Epoch: 1 [54000/60000 (90.000000%)]\t1.623027\n",
            "Train Epoch: 1 [56000/60000 (93.333333%)]\t1.655441\n",
            "Train Epoch: 1 [58000/60000 (96.666667%)]\t1.572466\n",
            "\n",
            "Test set: Average loss: 0.0030, Accuracy: 9397/10000 (94%)\n",
            "\n",
            "Train Epoch: 2 [0/60000 (0.000000%)]\t1.649950\n",
            "Train Epoch: 2 [2000/60000 (3.333333%)]\t1.550915\n",
            "Train Epoch: 2 [4000/60000 (6.666667%)]\t1.611149\n",
            "Train Epoch: 2 [6000/60000 (10.000000%)]\t1.601972\n",
            "Train Epoch: 2 [8000/60000 (13.333333%)]\t1.562407\n",
            "Train Epoch: 2 [10000/60000 (16.666667%)]\t1.593155\n",
            "Train Epoch: 2 [12000/60000 (20.000000%)]\t1.549754\n",
            "Train Epoch: 2 [14000/60000 (23.333333%)]\t1.558845\n",
            "Train Epoch: 2 [16000/60000 (26.666667%)]\t1.628630\n",
            "Train Epoch: 2 [18000/60000 (30.000000%)]\t1.532798\n",
            "Train Epoch: 2 [20000/60000 (33.333333%)]\t1.574423\n",
            "Train Epoch: 2 [22000/60000 (36.666667%)]\t1.569261\n",
            "Train Epoch: 2 [24000/60000 (40.000000%)]\t1.582306\n",
            "Train Epoch: 2 [26000/60000 (43.333333%)]\t1.560889\n",
            "Train Epoch: 2 [28000/60000 (46.666667%)]\t1.538561\n",
            "Train Epoch: 2 [30000/60000 (50.000000%)]\t1.605853\n",
            "Train Epoch: 2 [32000/60000 (53.333333%)]\t1.613597\n",
            "Train Epoch: 2 [34000/60000 (56.666667%)]\t1.585982\n",
            "Train Epoch: 2 [36000/60000 (60.000000%)]\t1.604294\n",
            "Train Epoch: 2 [38000/60000 (63.333333%)]\t1.568137\n",
            "Train Epoch: 2 [40000/60000 (66.666667%)]\t1.608062\n",
            "Train Epoch: 2 [42000/60000 (70.000000%)]\t1.541282\n",
            "Train Epoch: 2 [44000/60000 (73.333333%)]\t1.588099\n",
            "Train Epoch: 2 [46000/60000 (76.666667%)]\t1.561979\n",
            "Train Epoch: 2 [48000/60000 (80.000000%)]\t1.539543\n",
            "Train Epoch: 2 [50000/60000 (83.333333%)]\t1.571524\n",
            "Train Epoch: 2 [52000/60000 (86.666667%)]\t1.573763\n",
            "Train Epoch: 2 [54000/60000 (90.000000%)]\t1.587316\n",
            "Train Epoch: 2 [56000/60000 (93.333333%)]\t1.548958\n",
            "Train Epoch: 2 [58000/60000 (96.666667%)]\t1.591573\n",
            "\n",
            "Test set: Average loss: 0.0030, Accuracy: 9585/10000 (96%)\n",
            "\n",
            "Train Epoch: 3 [0/60000 (0.000000%)]\t1.578839\n",
            "Train Epoch: 3 [2000/60000 (3.333333%)]\t1.575875\n",
            "Train Epoch: 3 [4000/60000 (6.666667%)]\t1.540325\n",
            "Train Epoch: 3 [6000/60000 (10.000000%)]\t1.542939\n",
            "Train Epoch: 3 [8000/60000 (13.333333%)]\t1.552030\n",
            "Train Epoch: 3 [10000/60000 (16.666667%)]\t1.558210\n",
            "Train Epoch: 3 [12000/60000 (20.000000%)]\t1.584670\n",
            "Train Epoch: 3 [14000/60000 (23.333333%)]\t1.555498\n",
            "Train Epoch: 3 [16000/60000 (26.666667%)]\t1.533893\n",
            "Train Epoch: 3 [18000/60000 (30.000000%)]\t1.527073\n",
            "Train Epoch: 3 [20000/60000 (33.333333%)]\t1.577590\n",
            "Train Epoch: 3 [22000/60000 (36.666667%)]\t1.539606\n",
            "Train Epoch: 3 [24000/60000 (40.000000%)]\t1.571050\n",
            "Train Epoch: 3 [26000/60000 (43.333333%)]\t1.584093\n",
            "Train Epoch: 3 [28000/60000 (46.666667%)]\t1.504267\n",
            "Train Epoch: 3 [30000/60000 (50.000000%)]\t1.558671\n",
            "Train Epoch: 3 [32000/60000 (53.333333%)]\t1.516918\n",
            "Train Epoch: 3 [34000/60000 (56.666667%)]\t1.557259\n",
            "Train Epoch: 3 [36000/60000 (60.000000%)]\t1.592280\n",
            "Train Epoch: 3 [38000/60000 (63.333333%)]\t1.584093\n",
            "Train Epoch: 3 [40000/60000 (66.666667%)]\t1.532422\n",
            "Train Epoch: 3 [42000/60000 (70.000000%)]\t1.539411\n",
            "Train Epoch: 3 [44000/60000 (73.333333%)]\t1.532105\n",
            "Train Epoch: 3 [46000/60000 (76.666667%)]\t1.532548\n",
            "Train Epoch: 3 [48000/60000 (80.000000%)]\t1.513414\n",
            "Train Epoch: 3 [50000/60000 (83.333333%)]\t1.533092\n",
            "Train Epoch: 3 [52000/60000 (86.666667%)]\t1.549496\n",
            "Train Epoch: 3 [54000/60000 (90.000000%)]\t1.554317\n",
            "Train Epoch: 3 [56000/60000 (93.333333%)]\t1.572832\n",
            "Train Epoch: 3 [58000/60000 (96.666667%)]\t1.501977\n",
            "\n",
            "Test set: Average loss: 0.0030, Accuracy: 9647/10000 (96%)\n",
            "\n",
            "Train Epoch: 4 [0/60000 (0.000000%)]\t1.511602\n",
            "Train Epoch: 4 [2000/60000 (3.333333%)]\t1.517057\n",
            "Train Epoch: 4 [4000/60000 (6.666667%)]\t1.554551\n",
            "Train Epoch: 4 [6000/60000 (10.000000%)]\t1.561593\n",
            "Train Epoch: 4 [8000/60000 (13.333333%)]\t1.560476\n",
            "Train Epoch: 4 [10000/60000 (16.666667%)]\t1.571013\n",
            "Train Epoch: 4 [12000/60000 (20.000000%)]\t1.578881\n",
            "Train Epoch: 4 [14000/60000 (23.333333%)]\t1.556967\n",
            "Train Epoch: 4 [16000/60000 (26.666667%)]\t1.523066\n",
            "Train Epoch: 4 [18000/60000 (30.000000%)]\t1.527549\n",
            "Train Epoch: 4 [20000/60000 (33.333333%)]\t1.563457\n",
            "Train Epoch: 4 [22000/60000 (36.666667%)]\t1.534095\n",
            "Train Epoch: 4 [24000/60000 (40.000000%)]\t1.542804\n",
            "Train Epoch: 4 [26000/60000 (43.333333%)]\t1.541849\n",
            "Train Epoch: 4 [28000/60000 (46.666667%)]\t1.536065\n",
            "Train Epoch: 4 [30000/60000 (50.000000%)]\t1.496890\n",
            "Train Epoch: 4 [32000/60000 (53.333333%)]\t1.502455\n",
            "Train Epoch: 4 [34000/60000 (56.666667%)]\t1.522722\n",
            "Train Epoch: 4 [36000/60000 (60.000000%)]\t1.508599\n",
            "Train Epoch: 4 [38000/60000 (63.333333%)]\t1.551385\n",
            "Train Epoch: 4 [40000/60000 (66.666667%)]\t1.590130\n",
            "Train Epoch: 4 [42000/60000 (70.000000%)]\t1.599964\n",
            "Train Epoch: 4 [44000/60000 (73.333333%)]\t1.541815\n",
            "Train Epoch: 4 [46000/60000 (76.666667%)]\t1.523959\n",
            "Train Epoch: 4 [48000/60000 (80.000000%)]\t1.549713\n",
            "Train Epoch: 4 [50000/60000 (83.333333%)]\t1.524545\n",
            "Train Epoch: 4 [52000/60000 (86.666667%)]\t1.567219\n",
            "Train Epoch: 4 [54000/60000 (90.000000%)]\t1.574085\n",
            "Train Epoch: 4 [56000/60000 (93.333333%)]\t1.508962\n",
            "Train Epoch: 4 [58000/60000 (96.666667%)]\t1.582076\n",
            "\n",
            "Test set: Average loss: 0.0030, Accuracy: 9697/10000 (97%)\n",
            "\n",
            "Train Epoch: 5 [0/60000 (0.000000%)]\t1.544898\n",
            "Train Epoch: 5 [2000/60000 (3.333333%)]\t1.523042\n",
            "Train Epoch: 5 [4000/60000 (6.666667%)]\t1.528203\n",
            "Train Epoch: 5 [6000/60000 (10.000000%)]\t1.537688\n",
            "Train Epoch: 5 [8000/60000 (13.333333%)]\t1.506362\n",
            "Train Epoch: 5 [10000/60000 (16.666667%)]\t1.544403\n",
            "Train Epoch: 5 [12000/60000 (20.000000%)]\t1.500900\n",
            "Train Epoch: 5 [14000/60000 (23.333333%)]\t1.530335\n",
            "Train Epoch: 5 [16000/60000 (26.666667%)]\t1.587561\n",
            "Train Epoch: 5 [18000/60000 (30.000000%)]\t1.577180\n",
            "Train Epoch: 5 [20000/60000 (33.333333%)]\t1.523848\n",
            "Train Epoch: 5 [22000/60000 (36.666667%)]\t1.513241\n",
            "Train Epoch: 5 [24000/60000 (40.000000%)]\t1.526597\n",
            "Train Epoch: 5 [26000/60000 (43.333333%)]\t1.536211\n",
            "Train Epoch: 5 [28000/60000 (46.666667%)]\t1.532898\n",
            "Train Epoch: 5 [30000/60000 (50.000000%)]\t1.575534\n",
            "Train Epoch: 5 [32000/60000 (53.333333%)]\t1.535259\n",
            "Train Epoch: 5 [34000/60000 (56.666667%)]\t1.542398\n",
            "Train Epoch: 5 [36000/60000 (60.000000%)]\t1.524903\n",
            "Train Epoch: 5 [38000/60000 (63.333333%)]\t1.481979\n",
            "Train Epoch: 5 [40000/60000 (66.666667%)]\t1.563581\n",
            "Train Epoch: 5 [42000/60000 (70.000000%)]\t1.509669\n",
            "Train Epoch: 5 [44000/60000 (73.333333%)]\t1.555221\n",
            "Train Epoch: 5 [46000/60000 (76.666667%)]\t1.532974\n",
            "Train Epoch: 5 [48000/60000 (80.000000%)]\t1.524880\n",
            "Train Epoch: 5 [50000/60000 (83.333333%)]\t1.510906\n",
            "Train Epoch: 5 [52000/60000 (86.666667%)]\t1.586195\n",
            "Train Epoch: 5 [54000/60000 (90.000000%)]\t1.557963\n",
            "Train Epoch: 5 [56000/60000 (93.333333%)]\t1.544103\n",
            "Train Epoch: 5 [58000/60000 (96.666667%)]\t1.533503\n",
            "\n",
            "Test set: Average loss: 0.0030, Accuracy: 9707/10000 (97%)\n",
            "\n",
            "Train Epoch: 6 [0/60000 (0.000000%)]\t1.493047\n",
            "Train Epoch: 6 [2000/60000 (3.333333%)]\t1.525725\n",
            "Train Epoch: 6 [4000/60000 (6.666667%)]\t1.572243\n",
            "Train Epoch: 6 [6000/60000 (10.000000%)]\t1.545842\n",
            "Train Epoch: 6 [8000/60000 (13.333333%)]\t1.508849\n",
            "Train Epoch: 6 [10000/60000 (16.666667%)]\t1.544119\n",
            "Train Epoch: 6 [12000/60000 (20.000000%)]\t1.512995\n",
            "Train Epoch: 6 [14000/60000 (23.333333%)]\t1.522623\n",
            "Train Epoch: 6 [16000/60000 (26.666667%)]\t1.562827\n",
            "Train Epoch: 6 [18000/60000 (30.000000%)]\t1.535961\n",
            "Train Epoch: 6 [20000/60000 (33.333333%)]\t1.558143\n",
            "Train Epoch: 6 [22000/60000 (36.666667%)]\t1.519798\n",
            "Train Epoch: 6 [24000/60000 (40.000000%)]\t1.495791\n",
            "Train Epoch: 6 [26000/60000 (43.333333%)]\t1.507641\n",
            "Train Epoch: 6 [28000/60000 (46.666667%)]\t1.551035\n",
            "Train Epoch: 6 [30000/60000 (50.000000%)]\t1.541862\n",
            "Train Epoch: 6 [32000/60000 (53.333333%)]\t1.499271\n",
            "Train Epoch: 6 [34000/60000 (56.666667%)]\t1.566405\n",
            "Train Epoch: 6 [36000/60000 (60.000000%)]\t1.572566\n",
            "Train Epoch: 6 [38000/60000 (63.333333%)]\t1.479291\n",
            "Train Epoch: 6 [40000/60000 (66.666667%)]\t1.534476\n",
            "Train Epoch: 6 [42000/60000 (70.000000%)]\t1.497746\n",
            "Train Epoch: 6 [44000/60000 (73.333333%)]\t1.572740\n",
            "Train Epoch: 6 [46000/60000 (76.666667%)]\t1.544244\n",
            "Train Epoch: 6 [48000/60000 (80.000000%)]\t1.530329\n",
            "Train Epoch: 6 [50000/60000 (83.333333%)]\t1.529925\n",
            "Train Epoch: 6 [52000/60000 (86.666667%)]\t1.512218\n",
            "Train Epoch: 6 [54000/60000 (90.000000%)]\t1.477322\n",
            "Train Epoch: 6 [56000/60000 (93.333333%)]\t1.512011\n",
            "Train Epoch: 6 [58000/60000 (96.666667%)]\t1.513751\n",
            "\n",
            "Test set: Average loss: 0.0030, Accuracy: 9725/10000 (97%)\n",
            "\n",
            "Train Epoch: 7 [0/60000 (0.000000%)]\t1.543157\n",
            "Train Epoch: 7 [2000/60000 (3.333333%)]\t1.520124\n",
            "Train Epoch: 7 [4000/60000 (6.666667%)]\t1.540537\n",
            "Train Epoch: 7 [6000/60000 (10.000000%)]\t1.499195\n",
            "Train Epoch: 7 [8000/60000 (13.333333%)]\t1.542569\n",
            "Train Epoch: 7 [10000/60000 (16.666667%)]\t1.515083\n",
            "Train Epoch: 7 [12000/60000 (20.000000%)]\t1.511463\n",
            "Train Epoch: 7 [14000/60000 (23.333333%)]\t1.540804\n",
            "Train Epoch: 7 [16000/60000 (26.666667%)]\t1.531232\n",
            "Train Epoch: 7 [18000/60000 (30.000000%)]\t1.527869\n",
            "Train Epoch: 7 [20000/60000 (33.333333%)]\t1.510904\n",
            "Train Epoch: 7 [22000/60000 (36.666667%)]\t1.526833\n",
            "Train Epoch: 7 [24000/60000 (40.000000%)]\t1.502059\n",
            "Train Epoch: 7 [26000/60000 (43.333333%)]\t1.523999\n",
            "Train Epoch: 7 [28000/60000 (46.666667%)]\t1.545348\n",
            "Train Epoch: 7 [30000/60000 (50.000000%)]\t1.521469\n",
            "Train Epoch: 7 [32000/60000 (53.333333%)]\t1.510724\n",
            "Train Epoch: 7 [34000/60000 (56.666667%)]\t1.535885\n",
            "Train Epoch: 7 [36000/60000 (60.000000%)]\t1.543516\n",
            "Train Epoch: 7 [38000/60000 (63.333333%)]\t1.508617\n",
            "Train Epoch: 7 [40000/60000 (66.666667%)]\t1.546510\n",
            "Train Epoch: 7 [42000/60000 (70.000000%)]\t1.530326\n",
            "Train Epoch: 7 [44000/60000 (73.333333%)]\t1.519650\n",
            "Train Epoch: 7 [46000/60000 (76.666667%)]\t1.519971\n",
            "Train Epoch: 7 [48000/60000 (80.000000%)]\t1.542830\n",
            "Train Epoch: 7 [50000/60000 (83.333333%)]\t1.533395\n",
            "Train Epoch: 7 [52000/60000 (86.666667%)]\t1.491454\n",
            "Train Epoch: 7 [54000/60000 (90.000000%)]\t1.517748\n",
            "Train Epoch: 7 [56000/60000 (93.333333%)]\t1.492974\n",
            "Train Epoch: 7 [58000/60000 (96.666667%)]\t1.518411\n",
            "\n",
            "Test set: Average loss: 0.0030, Accuracy: 9768/10000 (98%)\n",
            "\n",
            "Train Epoch: 8 [0/60000 (0.000000%)]\t1.543471\n",
            "Train Epoch: 8 [2000/60000 (3.333333%)]\t1.538175\n",
            "Train Epoch: 8 [4000/60000 (6.666667%)]\t1.504870\n",
            "Train Epoch: 8 [6000/60000 (10.000000%)]\t1.547444\n",
            "Train Epoch: 8 [8000/60000 (13.333333%)]\t1.526628\n",
            "Train Epoch: 8 [10000/60000 (16.666667%)]\t1.501672\n",
            "Train Epoch: 8 [12000/60000 (20.000000%)]\t1.557056\n",
            "Train Epoch: 8 [14000/60000 (23.333333%)]\t1.516485\n",
            "Train Epoch: 8 [16000/60000 (26.666667%)]\t1.528829\n",
            "Train Epoch: 8 [18000/60000 (30.000000%)]\t1.519602\n",
            "Train Epoch: 8 [20000/60000 (33.333333%)]\t1.530020\n",
            "Train Epoch: 8 [22000/60000 (36.666667%)]\t1.522720\n",
            "Train Epoch: 8 [24000/60000 (40.000000%)]\t1.561390\n",
            "Train Epoch: 8 [26000/60000 (43.333333%)]\t1.524962\n",
            "Train Epoch: 8 [28000/60000 (46.666667%)]\t1.531601\n",
            "Train Epoch: 8 [30000/60000 (50.000000%)]\t1.488613\n",
            "Train Epoch: 8 [32000/60000 (53.333333%)]\t1.524252\n",
            "Train Epoch: 8 [34000/60000 (56.666667%)]\t1.493582\n",
            "Train Epoch: 8 [36000/60000 (60.000000%)]\t1.549633\n",
            "Train Epoch: 8 [38000/60000 (63.333333%)]\t1.514530\n",
            "Train Epoch: 8 [40000/60000 (66.666667%)]\t1.512873\n",
            "Train Epoch: 8 [42000/60000 (70.000000%)]\t1.558356\n",
            "Train Epoch: 8 [44000/60000 (73.333333%)]\t1.512158\n",
            "Train Epoch: 8 [46000/60000 (76.666667%)]\t1.509265\n",
            "Train Epoch: 8 [48000/60000 (80.000000%)]\t1.551854\n",
            "Train Epoch: 8 [50000/60000 (83.333333%)]\t1.521348\n",
            "Train Epoch: 8 [52000/60000 (86.666667%)]\t1.532881\n",
            "Train Epoch: 8 [54000/60000 (90.000000%)]\t1.534866\n",
            "Train Epoch: 8 [56000/60000 (93.333333%)]\t1.536414\n",
            "Train Epoch: 8 [58000/60000 (96.666667%)]\t1.507440\n",
            "\n",
            "Test set: Average loss: 0.0030, Accuracy: 9768/10000 (98%)\n",
            "\n",
            "Train Epoch: 9 [0/60000 (0.000000%)]\t1.512886\n",
            "Train Epoch: 9 [2000/60000 (3.333333%)]\t1.520383\n",
            "Train Epoch: 9 [4000/60000 (6.666667%)]\t1.561240\n",
            "Train Epoch: 9 [6000/60000 (10.000000%)]\t1.528257\n",
            "Train Epoch: 9 [8000/60000 (13.333333%)]\t1.503236\n",
            "Train Epoch: 9 [10000/60000 (16.666667%)]\t1.527586\n",
            "Train Epoch: 9 [12000/60000 (20.000000%)]\t1.472370\n",
            "Train Epoch: 9 [14000/60000 (23.333333%)]\t1.497459\n",
            "Train Epoch: 9 [16000/60000 (26.666667%)]\t1.554437\n",
            "Train Epoch: 9 [18000/60000 (30.000000%)]\t1.522997\n",
            "Train Epoch: 9 [20000/60000 (33.333333%)]\t1.500116\n",
            "Train Epoch: 9 [22000/60000 (36.666667%)]\t1.511891\n",
            "Train Epoch: 9 [24000/60000 (40.000000%)]\t1.502560\n",
            "Train Epoch: 9 [26000/60000 (43.333333%)]\t1.531332\n",
            "Train Epoch: 9 [28000/60000 (46.666667%)]\t1.514675\n",
            "Train Epoch: 9 [30000/60000 (50.000000%)]\t1.506942\n",
            "Train Epoch: 9 [32000/60000 (53.333333%)]\t1.506609\n",
            "Train Epoch: 9 [34000/60000 (56.666667%)]\t1.559422\n",
            "Train Epoch: 9 [36000/60000 (60.000000%)]\t1.550116\n",
            "Train Epoch: 9 [38000/60000 (63.333333%)]\t1.561934\n",
            "Train Epoch: 9 [40000/60000 (66.666667%)]\t1.524263\n",
            "Train Epoch: 9 [42000/60000 (70.000000%)]\t1.536402\n",
            "Train Epoch: 9 [44000/60000 (73.333333%)]\t1.508326\n",
            "Train Epoch: 9 [46000/60000 (76.666667%)]\t1.561400\n",
            "Train Epoch: 9 [48000/60000 (80.000000%)]\t1.550321\n",
            "Train Epoch: 9 [50000/60000 (83.333333%)]\t1.525459\n",
            "Train Epoch: 9 [52000/60000 (86.666667%)]\t1.507817\n",
            "Train Epoch: 9 [54000/60000 (90.000000%)]\t1.507025\n",
            "Train Epoch: 9 [56000/60000 (93.333333%)]\t1.520130\n",
            "Train Epoch: 9 [58000/60000 (96.666667%)]\t1.491845\n",
            "\n",
            "Test set: Average loss: 0.0030, Accuracy: 9787/10000 (98%)\n",
            "\n",
            "Train Epoch: 10 [0/60000 (0.000000%)]\t1.494424\n",
            "Train Epoch: 10 [2000/60000 (3.333333%)]\t1.521590\n",
            "Train Epoch: 10 [4000/60000 (6.666667%)]\t1.534052\n",
            "Train Epoch: 10 [6000/60000 (10.000000%)]\t1.494596\n",
            "Train Epoch: 10 [8000/60000 (13.333333%)]\t1.532648\n",
            "Train Epoch: 10 [10000/60000 (16.666667%)]\t1.536273\n",
            "Train Epoch: 10 [12000/60000 (20.000000%)]\t1.552926\n",
            "Train Epoch: 10 [14000/60000 (23.333333%)]\t1.528302\n",
            "Train Epoch: 10 [16000/60000 (26.666667%)]\t1.498021\n",
            "Train Epoch: 10 [18000/60000 (30.000000%)]\t1.501614\n",
            "Train Epoch: 10 [20000/60000 (33.333333%)]\t1.493243\n",
            "Train Epoch: 10 [22000/60000 (36.666667%)]\t1.487377\n",
            "Train Epoch: 10 [24000/60000 (40.000000%)]\t1.567049\n",
            "Train Epoch: 10 [26000/60000 (43.333333%)]\t1.496514\n",
            "Train Epoch: 10 [28000/60000 (46.666667%)]\t1.490036\n",
            "Train Epoch: 10 [30000/60000 (50.000000%)]\t1.529592\n",
            "Train Epoch: 10 [32000/60000 (53.333333%)]\t1.497977\n",
            "Train Epoch: 10 [34000/60000 (56.666667%)]\t1.489699\n",
            "Train Epoch: 10 [36000/60000 (60.000000%)]\t1.526753\n",
            "Train Epoch: 10 [38000/60000 (63.333333%)]\t1.548752\n",
            "Train Epoch: 10 [40000/60000 (66.666667%)]\t1.494865\n",
            "Train Epoch: 10 [42000/60000 (70.000000%)]\t1.538041\n",
            "Train Epoch: 10 [44000/60000 (73.333333%)]\t1.509540\n",
            "Train Epoch: 10 [46000/60000 (76.666667%)]\t1.520482\n",
            "Train Epoch: 10 [48000/60000 (80.000000%)]\t1.527280\n",
            "Train Epoch: 10 [50000/60000 (83.333333%)]\t1.541404\n",
            "Train Epoch: 10 [52000/60000 (86.666667%)]\t1.542480\n",
            "Train Epoch: 10 [54000/60000 (90.000000%)]\t1.494644\n",
            "Train Epoch: 10 [56000/60000 (93.333333%)]\t1.480230\n",
            "Train Epoch: 10 [58000/60000 (96.666667%)]\t1.485660\n",
            "\n",
            "Test set: Average loss: 0.0030, Accuracy: 9779/10000 (98%)\n",
            "\n"
          ]
        }
      ]
    },
    {
      "cell_type": "code",
      "source": [
        "device"
      ],
      "metadata": {
        "colab": {
          "base_uri": "https://localhost:8080/"
        },
        "id": "uKMD49lW2fp7",
        "outputId": "00f3495b-83fc-4f11-f53c-0d0a5c1005eb"
      },
      "execution_count": null,
      "outputs": [
        {
          "output_type": "execute_result",
          "data": {
            "text/plain": [
              "device(type='cuda')"
            ]
          },
          "metadata": {},
          "execution_count": 39
        }
      ]
    },
    {
      "cell_type": "code",
      "source": [
        "model.eval()\n",
        "\n",
        "data, target = test_data[500]\n",
        "\n",
        "data = data.unsqueeze(0).to(device)\n",
        "\n",
        "output = model(data)\n",
        "\n",
        "prediction = output.argmax(dim=1, keepdim=True).item()\n",
        "\n",
        "print(f'Prediction: {prediction}')\n",
        "\n",
        "image = data.squeeze(0).squeeze(0).cpu().numpy()\n",
        "\n",
        "plt.imshow(image, cmap='gray')\n",
        "plt.show"
      ],
      "metadata": {
        "colab": {
          "base_uri": "https://localhost:8080/",
          "height": 671
        },
        "id": "FUrbdZ_X2_Lj",
        "outputId": "5211b6d6-c1c1-4f3f-eeb5-bd0f4f9f283f"
      },
      "execution_count": null,
      "outputs": [
        {
          "output_type": "stream",
          "name": "stdout",
          "text": [
            "Prediction: 3\n"
          ]
        },
        {
          "output_type": "stream",
          "name": "stderr",
          "text": [
            "<ipython-input-36-da28291b5edc>:18: UserWarning: Implicit dimension choice for softmax has been deprecated. Change the call to include dim=X as an argument.\n",
            "  return F.softmax(x)\n"
          ]
        },
        {
          "output_type": "execute_result",
          "data": {
            "text/plain": [
              "<function matplotlib.pyplot.show(close=None, block=None)>"
            ],
            "text/html": [
              "<div style=\"max-width:800px; border: 1px solid var(--colab-border-color);\"><style>\n",
              "      pre.function-repr-contents {\n",
              "        overflow-x: auto;\n",
              "        padding: 8px 12px;\n",
              "        max-height: 500px;\n",
              "      }\n",
              "\n",
              "      pre.function-repr-contents.function-repr-contents-collapsed {\n",
              "        cursor: pointer;\n",
              "        max-height: 100px;\n",
              "      }\n",
              "    </style>\n",
              "    <pre style=\"white-space: initial; background:\n",
              "         var(--colab-secondary-surface-color); padding: 8px 12px;\n",
              "         border-bottom: 1px solid var(--colab-border-color);\"><b>matplotlib.pyplot.show</b><br/>def show(*args, **kwargs)</pre><pre class=\"function-repr-contents function-repr-contents-collapsed\" style=\"\"><a class=\"filepath\" style=\"display:none\" href=\"#\">/usr/local/lib/python3.10/dist-packages/matplotlib/pyplot.py</a>Display all open figures.\n",
              "\n",
              "Parameters\n",
              "----------\n",
              "block : bool, optional\n",
              "    Whether to wait for all figures to be closed before returning.\n",
              "\n",
              "    If `True` block and run the GUI main loop until all figure windows\n",
              "    are closed.\n",
              "\n",
              "    If `False` ensure that all figure windows are displayed and return\n",
              "    immediately.  In this case, you are responsible for ensuring\n",
              "    that the event loop is running to have responsive figures.\n",
              "\n",
              "    Defaults to True in non-interactive mode and to False in interactive\n",
              "    mode (see `.pyplot.isinteractive`).\n",
              "\n",
              "See Also\n",
              "--------\n",
              "ion : Enable interactive mode, which shows / updates the figure after\n",
              "      every plotting command, so that calling ``show()`` is not necessary.\n",
              "ioff : Disable interactive mode.\n",
              "savefig : Save the figure to an image file instead of showing it on screen.\n",
              "\n",
              "Notes\n",
              "-----\n",
              "**Saving figures to file and showing a window at the same time**\n",
              "\n",
              "If you want an image file as well as a user interface window, use\n",
              "`.pyplot.savefig` before `.pyplot.show`. At the end of (a blocking)\n",
              "``show()`` the figure is closed and thus unregistered from pyplot. Calling\n",
              "`.pyplot.savefig` afterwards would save a new and thus empty figure. This\n",
              "limitation of command order does not apply if the show is non-blocking or\n",
              "if you keep a reference to the figure and use `.Figure.savefig`.\n",
              "\n",
              "**Auto-show in jupyter notebooks**\n",
              "\n",
              "The jupyter backends (activated via ``%matplotlib inline``,\n",
              "``%matplotlib notebook``, or ``%matplotlib widget``), call ``show()`` at\n",
              "the end of every cell by default. Thus, you usually don&#x27;t have to call it\n",
              "explicitly there.</pre>\n",
              "      <script>\n",
              "      if (google.colab.kernel.accessAllowed && google.colab.files && google.colab.files.view) {\n",
              "        for (const element of document.querySelectorAll('.filepath')) {\n",
              "          element.style.display = 'block'\n",
              "          element.onclick = (event) => {\n",
              "            event.preventDefault();\n",
              "            event.stopPropagation();\n",
              "            google.colab.files.view(element.textContent, 401);\n",
              "          };\n",
              "        }\n",
              "      }\n",
              "      for (const element of document.querySelectorAll('.function-repr-contents')) {\n",
              "        element.onclick = (event) => {\n",
              "          event.preventDefault();\n",
              "          event.stopPropagation();\n",
              "          element.classList.toggle('function-repr-contents-collapsed');\n",
              "        };\n",
              "      }\n",
              "      </script>\n",
              "      </div>"
            ]
          },
          "metadata": {},
          "execution_count": 44
        },
        {
          "output_type": "display_data",
          "data": {
            "text/plain": [
              "<Figure size 640x480 with 1 Axes>"
            ],
            "image/png": "[encoded data removed]"
          },
          "metadata": {}
        }
      ]
    }
  ]
}